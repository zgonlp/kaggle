{
 "cells": [
  {
   "cell_type": "code",
   "execution_count": 1,
   "metadata": {},
   "outputs": [
    {
     "name": "stdout",
     "output_type": "stream",
     "text": [
      "Read 25000 labeled train reviews, 25000 labeled test reviews, and 50000 unlabeled reviews\n",
      "\n"
     ]
    }
   ],
   "source": [
    "import pandas as pd\n",
    "\n",
    "# Read data from files \n",
    "train = pd.read_csv( \"labeledTrainData.tsv\", header=0, \n",
    " delimiter=\"\\t\", quoting=3 )\n",
    "test = pd.read_csv( \"testData.tsv\", header=0, delimiter=\"\\t\", quoting=3 )\n",
    "unlabeled_train = pd.read_csv( \"unlabeledTrainData.tsv\", header=0, \n",
    " delimiter=\"\\t\", quoting=3 )\n",
    "\n",
    "# Verify the number of reviews that were read (100,000 in total)\n",
    "print(\"Read %d labeled train reviews, %d labeled test reviews, \" \\\n",
    " \"and %d unlabeled reviews\\n\" % (train[\"review\"].size,  \n",
    " test[\"review\"].size, unlabeled_train[\"review\"].size ))"
   ]
  },
  {
   "cell_type": "code",
   "execution_count": 2,
   "metadata": {
    "collapsed": true
   },
   "outputs": [],
   "source": [
    "# Import various modules for string cleaning\n",
    "from bs4 import BeautifulSoup\n",
    "import re\n",
    "from nltk.corpus import stopwords\n",
    "\n",
    "def review_to_wordlist( review, remove_stopwords=False ):\n",
    "    # Function to convert a document to a sequence of words,\n",
    "    # optionally removing stop words.  Returns a list of words.\n",
    "    #\n",
    "    # 1. Remove HTML\n",
    "    review_text = BeautifulSoup(review).get_text()\n",
    "    #  \n",
    "    # 2. Remove non-letters\n",
    "    review_text = re.sub(\"[^a-zA-Z]\",\" \", review_text)\n",
    "    #\n",
    "    # 3. Convert words to lower case and split them\n",
    "    words = review_text.lower().split()\n",
    "    #\n",
    "    # 4. Optionally remove stop words (false by default)\n",
    "    if remove_stopwords:\n",
    "        stops = set(stopwords.words(\"english\"))\n",
    "        words = [w for w in words if not w in stops]\n",
    "    #\n",
    "    # 5. Return a list of words\n",
    "    return(words)"
   ]
  },
  {
   "cell_type": "code",
   "execution_count": 3,
   "metadata": {
    "collapsed": true
   },
   "outputs": [],
   "source": [
    "# Download the punkt tokenizer for sentence splitting\n",
    "import nltk.data  \n",
    "\n",
    "# Load the punkt tokenizer\n",
    "tokenizer = nltk.data.load('tokenizers/punkt/english.pickle')\n",
    "\n",
    "# Define a function to split a review into parsed sentences\n",
    "def review_to_sentences( review, tokenizer, remove_stopwords=False ):\n",
    "    # Function to split a review into parsed sentences. Returns a \n",
    "    # list of sentences, where each sentence is a list of words\n",
    "    #\n",
    "    # 1. Use the NLTK tokenizer to split the paragraph into sentences\n",
    "    raw_sentences = tokenizer.tokenize(review.strip())\n",
    "    #\n",
    "    # 2. Loop over each sentence\n",
    "    sentences = []\n",
    "    for raw_sentence in raw_sentences:\n",
    "        # If a sentence is empty, skip it\n",
    "        if len(raw_sentence) > 0:\n",
    "            # Otherwise, call review_to_wordlist to get a list of words\n",
    "            sentences.append( review_to_wordlist( raw_sentence, \\\n",
    "              remove_stopwords ))\n",
    "    #\n",
    "    # Return the list of sentences (each sentence is a list of words,\n",
    "    # so this returns a list of lists\n",
    "    return sentences\n"
   ]
  },
  {
   "cell_type": "code",
   "execution_count": 4,
   "metadata": {},
   "outputs": [
    {
     "name": "stdout",
     "output_type": "stream",
     "text": [
      "Parsing sentences from training set\n"
     ]
    },
    {
     "name": "stderr",
     "output_type": "stream",
     "text": [
      "/Users/yangjun/anaconda/lib/python3.6/site-packages/bs4/__init__.py:181: UserWarning: No parser was explicitly specified, so I'm using the best available HTML parser for this system (\"lxml\"). This usually isn't a problem, but if you run this code on another system, or in a different virtual environment, it may use a different parser and behave differently.\n",
      "\n",
      "The code that caused this warning is on line 193 of the file /Users/yangjun/anaconda/lib/python3.6/runpy.py. To get rid of this warning, change code that looks like this:\n",
      "\n",
      " BeautifulSoup(YOUR_MARKUP})\n",
      "\n",
      "to this:\n",
      "\n",
      " BeautifulSoup(YOUR_MARKUP, \"lxml\")\n",
      "\n",
      "  markup_type=markup_type))\n",
      "/Users/yangjun/anaconda/lib/python3.6/site-packages/bs4/__init__.py:219: UserWarning: \"b'.'\" looks like a filename, not markup. You should probably open this file and pass the filehandle into Beautiful Soup.\n",
      "  ' Beautiful Soup.' % markup)\n",
      "/Users/yangjun/anaconda/lib/python3.6/site-packages/bs4/__init__.py:282: UserWarning: \"http://www.happierabroad.com\"\" looks like a URL. Beautiful Soup is not an HTTP client. You should probably use an HTTP client like requests to get the document behind the URL, and feed that document to Beautiful Soup.\n",
      "  ' that document to Beautiful Soup.' % decoded_markup\n"
     ]
    },
    {
     "name": "stdout",
     "output_type": "stream",
     "text": [
      "Parsing sentences from unlabeled set\n"
     ]
    },
    {
     "name": "stderr",
     "output_type": "stream",
     "text": [
      "/Users/yangjun/anaconda/lib/python3.6/site-packages/bs4/__init__.py:282: UserWarning: \"http://www.archive.org/details/LovefromaStranger\"\" looks like a URL. Beautiful Soup is not an HTTP client. You should probably use an HTTP client like requests to get the document behind the URL, and feed that document to Beautiful Soup.\n",
      "  ' that document to Beautiful Soup.' % decoded_markup\n",
      "/Users/yangjun/anaconda/lib/python3.6/site-packages/bs4/__init__.py:282: UserWarning: \"http://www.loosechangeguide.com/LooseChangeGuide.html\"\" looks like a URL. Beautiful Soup is not an HTTP client. You should probably use an HTTP client like requests to get the document behind the URL, and feed that document to Beautiful Soup.\n",
      "  ' that document to Beautiful Soup.' % decoded_markup\n",
      "/Users/yangjun/anaconda/lib/python3.6/site-packages/bs4/__init__.py:282: UserWarning: \"http://www.msnbc.msn.com/id/4972055/site/newsweek/\"\" looks like a URL. Beautiful Soup is not an HTTP client. You should probably use an HTTP client like requests to get the document behind the URL, and feed that document to Beautiful Soup.\n",
      "  ' that document to Beautiful Soup.' % decoded_markup\n",
      "/Users/yangjun/anaconda/lib/python3.6/site-packages/bs4/__init__.py:219: UserWarning: \"b'..'\" looks like a filename, not markup. You should probably open this file and pass the filehandle into Beautiful Soup.\n",
      "  ' Beautiful Soup.' % markup)\n",
      "/Users/yangjun/anaconda/lib/python3.6/site-packages/bs4/__init__.py:282: UserWarning: \"http://www.youtube.com/watch?v=a0KSqelmgN8\"\" looks like a URL. Beautiful Soup is not an HTTP client. You should probably use an HTTP client like requests to get the document behind the URL, and feed that document to Beautiful Soup.\n",
      "  ' that document to Beautiful Soup.' % decoded_markup\n",
      "/Users/yangjun/anaconda/lib/python3.6/site-packages/bs4/__init__.py:282: UserWarning: \"http://jake-weird.blogspot.com/2007/08/beneath.html\"\" looks like a URL. Beautiful Soup is not an HTTP client. You should probably use an HTTP client like requests to get the document behind the URL, and feed that document to Beautiful Soup.\n",
      "  ' that document to Beautiful Soup.' % decoded_markup\n"
     ]
    }
   ],
   "source": [
    "sentences = []  # Initialize an empty list of sentences\n",
    "\n",
    "print(\"Parsing sentences from training set\")\n",
    "for review in train[\"review\"]:\n",
    "    sentences += review_to_sentences(review, tokenizer)\n",
    "\n",
    "print(\"Parsing sentences from unlabeled set\")\n",
    "for review in unlabeled_train[\"review\"]:\n",
    "    sentences += review_to_sentences(review, tokenizer)\n",
    "    \n",
    "    \"+= and appen() are different\""
   ]
  },
  {
   "cell_type": "code",
   "execution_count": 5,
   "metadata": {},
   "outputs": [
    {
     "name": "stdout",
     "output_type": "stream",
     "text": [
      "795538\n"
     ]
    }
   ],
   "source": [
    "print(len(sentences))"
   ]
  },
  {
   "cell_type": "code",
   "execution_count": 6,
   "metadata": {},
   "outputs": [
    {
     "name": "stdout",
     "output_type": "stream",
     "text": [
      "['with', 'all', 'this', 'stuff', 'going', 'down', 'at', 'the', 'moment', 'with', 'mj', 'i', 've', 'started', 'listening', 'to', 'his', 'music', 'watching', 'the', 'odd', 'documentary', 'here', 'and', 'there', 'watched', 'the', 'wiz', 'and', 'watched', 'moonwalker', 'again']\n"
     ]
    }
   ],
   "source": [
    "print(sentences[0])"
   ]
  },
  {
   "cell_type": "code",
   "execution_count": 10,
   "metadata": {},
   "outputs": [
    {
     "name": "stderr",
     "output_type": "stream",
     "text": [
      "2017-11-06 19:51:03,166 : INFO : 'pattern' package not found; tag filters are not available for English\n",
      "2017-11-06 19:51:03,171 : INFO : collecting all words and their counts\n",
      "2017-11-06 19:51:03,172 : INFO : PROGRESS: at sentence #0, processed 0 words, keeping 0 word types\n",
      "2017-11-06 19:51:03,252 : INFO : PROGRESS: at sentence #10000, processed 225803 words, keeping 17776 word types\n",
      "2017-11-06 19:51:03,300 : INFO : PROGRESS: at sentence #20000, processed 451892 words, keeping 24948 word types\n",
      "2017-11-06 19:51:03,344 : INFO : PROGRESS: at sentence #30000, processed 671315 words, keeping 30034 word types\n"
     ]
    },
    {
     "name": "stdout",
     "output_type": "stream",
     "text": [
      "Training model...\n"
     ]
    },
    {
     "name": "stderr",
     "output_type": "stream",
     "text": [
      "2017-11-06 19:51:03,397 : INFO : PROGRESS: at sentence #40000, processed 897815 words, keeping 34348 word types\n",
      "2017-11-06 19:51:03,452 : INFO : PROGRESS: at sentence #50000, processed 1116963 words, keeping 37761 word types\n",
      "2017-11-06 19:51:03,500 : INFO : PROGRESS: at sentence #60000, processed 1338404 words, keeping 40723 word types\n",
      "2017-11-06 19:51:03,550 : INFO : PROGRESS: at sentence #70000, processed 1561580 words, keeping 43333 word types\n",
      "2017-11-06 19:51:03,596 : INFO : PROGRESS: at sentence #80000, processed 1780887 words, keeping 45714 word types\n",
      "2017-11-06 19:51:03,643 : INFO : PROGRESS: at sentence #90000, processed 2004996 words, keeping 48135 word types\n",
      "2017-11-06 19:51:03,689 : INFO : PROGRESS: at sentence #100000, processed 2226966 words, keeping 50207 word types\n",
      "2017-11-06 19:51:03,736 : INFO : PROGRESS: at sentence #110000, processed 2446580 words, keeping 52081 word types\n",
      "2017-11-06 19:51:03,785 : INFO : PROGRESS: at sentence #120000, processed 2668775 words, keeping 54119 word types\n",
      "2017-11-06 19:51:03,834 : INFO : PROGRESS: at sentence #130000, processed 2894303 words, keeping 55847 word types\n",
      "2017-11-06 19:51:03,880 : INFO : PROGRESS: at sentence #140000, processed 3107005 words, keeping 57346 word types\n",
      "2017-11-06 19:51:03,930 : INFO : PROGRESS: at sentence #150000, processed 3332627 words, keeping 59055 word types\n",
      "2017-11-06 19:51:03,977 : INFO : PROGRESS: at sentence #160000, processed 3555315 words, keeping 60617 word types\n",
      "2017-11-06 19:51:04,022 : INFO : PROGRESS: at sentence #170000, processed 3778655 words, keeping 62077 word types\n",
      "2017-11-06 19:51:04,066 : INFO : PROGRESS: at sentence #180000, processed 3999236 words, keeping 63496 word types\n",
      "2017-11-06 19:51:04,115 : INFO : PROGRESS: at sentence #190000, processed 4224449 words, keeping 64794 word types\n",
      "2017-11-06 19:51:04,163 : INFO : PROGRESS: at sentence #200000, processed 4448603 words, keeping 66087 word types\n",
      "2017-11-06 19:51:04,211 : INFO : PROGRESS: at sentence #210000, processed 4669967 words, keeping 67390 word types\n",
      "2017-11-06 19:51:04,259 : INFO : PROGRESS: at sentence #220000, processed 4894968 words, keeping 68697 word types\n",
      "2017-11-06 19:51:04,308 : INFO : PROGRESS: at sentence #230000, processed 5117545 words, keeping 69958 word types\n",
      "2017-11-06 19:51:04,361 : INFO : PROGRESS: at sentence #240000, processed 5345050 words, keeping 71167 word types\n",
      "2017-11-06 19:51:04,412 : INFO : PROGRESS: at sentence #250000, processed 5559165 words, keeping 72351 word types\n",
      "2017-11-06 19:51:04,464 : INFO : PROGRESS: at sentence #260000, processed 5779146 words, keeping 73478 word types\n",
      "2017-11-06 19:51:04,516 : INFO : PROGRESS: at sentence #270000, processed 6000435 words, keeping 74767 word types\n",
      "2017-11-06 19:51:04,570 : INFO : PROGRESS: at sentence #280000, processed 6226314 words, keeping 76369 word types\n",
      "2017-11-06 19:51:04,627 : INFO : PROGRESS: at sentence #290000, processed 6449474 words, keeping 77839 word types\n",
      "2017-11-06 19:51:04,682 : INFO : PROGRESS: at sentence #300000, processed 6674077 words, keeping 79171 word types\n",
      "2017-11-06 19:51:04,735 : INFO : PROGRESS: at sentence #310000, processed 6899391 words, keeping 80480 word types\n",
      "2017-11-06 19:51:04,784 : INFO : PROGRESS: at sentence #320000, processed 7124278 words, keeping 81808 word types\n",
      "2017-11-06 19:51:04,839 : INFO : PROGRESS: at sentence #330000, processed 7346021 words, keeping 83030 word types\n",
      "2017-11-06 19:51:04,887 : INFO : PROGRESS: at sentence #340000, processed 7575533 words, keeping 84280 word types\n",
      "2017-11-06 19:51:04,936 : INFO : PROGRESS: at sentence #350000, processed 7798803 words, keeping 85425 word types\n",
      "2017-11-06 19:51:04,986 : INFO : PROGRESS: at sentence #360000, processed 8019427 words, keeping 86596 word types\n",
      "2017-11-06 19:51:05,042 : INFO : PROGRESS: at sentence #370000, processed 8246619 words, keeping 87708 word types\n",
      "2017-11-06 19:51:05,098 : INFO : PROGRESS: at sentence #380000, processed 8471766 words, keeping 88878 word types\n",
      "2017-11-06 19:51:05,155 : INFO : PROGRESS: at sentence #390000, processed 8701497 words, keeping 89907 word types\n",
      "2017-11-06 19:51:05,206 : INFO : PROGRESS: at sentence #400000, processed 8924446 words, keeping 90916 word types\n",
      "2017-11-06 19:51:05,265 : INFO : PROGRESS: at sentence #410000, processed 9145796 words, keeping 91880 word types\n",
      "2017-11-06 19:51:05,328 : INFO : PROGRESS: at sentence #420000, processed 9366876 words, keeping 92912 word types\n",
      "2017-11-06 19:51:05,386 : INFO : PROGRESS: at sentence #430000, processed 9594413 words, keeping 93932 word types\n",
      "2017-11-06 19:51:05,445 : INFO : PROGRESS: at sentence #440000, processed 9821166 words, keeping 94906 word types\n",
      "2017-11-06 19:51:05,503 : INFO : PROGRESS: at sentence #450000, processed 10044928 words, keeping 96036 word types\n",
      "2017-11-06 19:51:05,563 : INFO : PROGRESS: at sentence #460000, processed 10277688 words, keeping 97088 word types\n",
      "2017-11-06 19:51:05,615 : INFO : PROGRESS: at sentence #470000, processed 10505613 words, keeping 97933 word types\n",
      "2017-11-06 19:51:05,666 : INFO : PROGRESS: at sentence #480000, processed 10725997 words, keeping 98862 word types\n",
      "2017-11-06 19:51:05,720 : INFO : PROGRESS: at sentence #490000, processed 10952741 words, keeping 99871 word types\n",
      "2017-11-06 19:51:05,768 : INFO : PROGRESS: at sentence #500000, processed 11174397 words, keeping 100765 word types\n",
      "2017-11-06 19:51:05,819 : INFO : PROGRESS: at sentence #510000, processed 11399672 words, keeping 101699 word types\n",
      "2017-11-06 19:51:05,878 : INFO : PROGRESS: at sentence #520000, processed 11623020 words, keeping 102598 word types\n",
      "2017-11-06 19:51:05,952 : INFO : PROGRESS: at sentence #530000, processed 11847418 words, keeping 103400 word types\n",
      "2017-11-06 19:51:06,010 : INFO : PROGRESS: at sentence #540000, processed 12072033 words, keeping 104265 word types\n",
      "2017-11-06 19:51:06,067 : INFO : PROGRESS: at sentence #550000, processed 12297571 words, keeping 105133 word types\n",
      "2017-11-06 19:51:06,121 : INFO : PROGRESS: at sentence #560000, processed 12518861 words, keeping 105997 word types\n",
      "2017-11-06 19:51:06,183 : INFO : PROGRESS: at sentence #570000, processed 12747916 words, keeping 106787 word types\n",
      "2017-11-06 19:51:06,244 : INFO : PROGRESS: at sentence #580000, processed 12969412 words, keeping 107665 word types\n",
      "2017-11-06 19:51:06,305 : INFO : PROGRESS: at sentence #590000, processed 13194937 words, keeping 108501 word types\n",
      "2017-11-06 19:51:06,357 : INFO : PROGRESS: at sentence #600000, processed 13417135 words, keeping 109218 word types\n",
      "2017-11-06 19:51:06,415 : INFO : PROGRESS: at sentence #610000, processed 13638158 words, keeping 110092 word types\n",
      "2017-11-06 19:51:06,472 : INFO : PROGRESS: at sentence #620000, processed 13864483 words, keeping 110837 word types\n",
      "2017-11-06 19:51:06,524 : INFO : PROGRESS: at sentence #630000, processed 14088769 words, keeping 111610 word types\n",
      "2017-11-06 19:51:06,574 : INFO : PROGRESS: at sentence #640000, processed 14309552 words, keeping 112416 word types\n",
      "2017-11-06 19:51:06,626 : INFO : PROGRESS: at sentence #650000, processed 14535308 words, keeping 113196 word types\n",
      "2017-11-06 19:51:06,684 : INFO : PROGRESS: at sentence #660000, processed 14758098 words, keeping 113945 word types\n",
      "2017-11-06 19:51:06,756 : INFO : PROGRESS: at sentence #670000, processed 14981482 words, keeping 114643 word types\n",
      "2017-11-06 19:51:06,835 : INFO : PROGRESS: at sentence #680000, processed 15206314 words, keeping 115354 word types\n",
      "2017-11-06 19:51:06,917 : INFO : PROGRESS: at sentence #690000, processed 15428507 words, keeping 116131 word types\n",
      "2017-11-06 19:51:07,010 : INFO : PROGRESS: at sentence #700000, processed 15657213 words, keeping 116943 word types\n",
      "2017-11-06 19:51:07,092 : INFO : PROGRESS: at sentence #710000, processed 15880202 words, keeping 117596 word types\n",
      "2017-11-06 19:51:07,172 : INFO : PROGRESS: at sentence #720000, processed 16105489 words, keeping 118221 word types\n",
      "2017-11-06 19:51:07,246 : INFO : PROGRESS: at sentence #730000, processed 16331870 words, keeping 118954 word types\n",
      "2017-11-06 19:51:07,319 : INFO : PROGRESS: at sentence #740000, processed 16552903 words, keeping 119668 word types\n",
      "2017-11-06 19:51:07,389 : INFO : PROGRESS: at sentence #750000, processed 16771230 words, keeping 120295 word types\n"
     ]
    },
    {
     "name": "stderr",
     "output_type": "stream",
     "text": [
      "2017-11-06 19:51:07,458 : INFO : PROGRESS: at sentence #760000, processed 16990622 words, keeping 120930 word types\n",
      "2017-11-06 19:51:07,530 : INFO : PROGRESS: at sentence #770000, processed 17217759 words, keeping 121703 word types\n",
      "2017-11-06 19:51:07,602 : INFO : PROGRESS: at sentence #780000, processed 17447905 words, keeping 122402 word types\n",
      "2017-11-06 19:51:07,673 : INFO : PROGRESS: at sentence #790000, processed 17674981 words, keeping 123066 word types\n",
      "2017-11-06 19:51:07,714 : INFO : collected 123504 word types from a corpus of 17798082 raw words and 795538 sentences\n",
      "2017-11-06 19:51:07,715 : INFO : Loading a fresh vocabulary\n",
      "2017-11-06 19:51:07,805 : INFO : min_count=40 retains 16490 unique words (13% of original 123504, drops 107014)\n",
      "2017-11-06 19:51:07,806 : INFO : min_count=40 leaves 17238940 word corpus (96% of original 17798082, drops 559142)\n",
      "2017-11-06 19:51:07,854 : INFO : deleting the raw counts dictionary of 123504 items\n",
      "2017-11-06 19:51:07,860 : INFO : sample=0.001 downsamples 48 most-common words\n",
      "2017-11-06 19:51:07,862 : INFO : downsampling leaves estimated 12749658 word corpus (74.0% of prior 17238940)\n",
      "2017-11-06 19:51:07,863 : INFO : estimated required memory for 16490 words and 300 dimensions: 47821000 bytes\n",
      "2017-11-06 19:51:07,936 : INFO : resetting layer weights\n",
      "2017-11-06 19:51:08,181 : INFO : training model with 4 workers on 16490 vocabulary and 300 features, using sg=0 hs=0 sample=0.001 negative=5 window=10\n",
      "2017-11-06 19:51:09,192 : INFO : PROGRESS: at 1.44% examples, 911878 words/s, in_qsize 7, out_qsize 0\n",
      "2017-11-06 19:51:10,212 : INFO : PROGRESS: at 2.93% examples, 919323 words/s, in_qsize 7, out_qsize 0\n",
      "2017-11-06 19:51:11,217 : INFO : PROGRESS: at 4.41% examples, 920875 words/s, in_qsize 7, out_qsize 0\n",
      "2017-11-06 19:51:12,217 : INFO : PROGRESS: at 5.73% examples, 901427 words/s, in_qsize 7, out_qsize 0\n",
      "2017-11-06 19:51:13,218 : INFO : PROGRESS: at 7.13% examples, 898291 words/s, in_qsize 7, out_qsize 0\n",
      "2017-11-06 19:51:14,226 : INFO : PROGRESS: at 8.60% examples, 904644 words/s, in_qsize 7, out_qsize 0\n",
      "2017-11-06 19:51:15,233 : INFO : PROGRESS: at 10.08% examples, 909395 words/s, in_qsize 7, out_qsize 0\n",
      "2017-11-06 19:51:16,238 : INFO : PROGRESS: at 11.55% examples, 912990 words/s, in_qsize 7, out_qsize 0\n",
      "2017-11-06 19:51:17,242 : INFO : PROGRESS: at 12.98% examples, 912830 words/s, in_qsize 7, out_qsize 0\n",
      "2017-11-06 19:51:18,247 : INFO : PROGRESS: at 14.45% examples, 915523 words/s, in_qsize 7, out_qsize 0\n",
      "2017-11-06 19:51:19,250 : INFO : PROGRESS: at 15.88% examples, 914729 words/s, in_qsize 7, out_qsize 0\n",
      "2017-11-06 19:51:20,255 : INFO : PROGRESS: at 17.36% examples, 916798 words/s, in_qsize 7, out_qsize 0\n",
      "2017-11-06 19:51:21,257 : INFO : PROGRESS: at 18.84% examples, 918794 words/s, in_qsize 7, out_qsize 0\n",
      "2017-11-06 19:51:22,269 : INFO : PROGRESS: at 20.32% examples, 920325 words/s, in_qsize 7, out_qsize 0\n",
      "2017-11-06 19:51:23,279 : INFO : PROGRESS: at 21.84% examples, 922175 words/s, in_qsize 7, out_qsize 0\n",
      "2017-11-06 19:51:24,292 : INFO : PROGRESS: at 23.35% examples, 923280 words/s, in_qsize 7, out_qsize 0\n",
      "2017-11-06 19:51:25,293 : INFO : PROGRESS: at 24.86% examples, 925281 words/s, in_qsize 7, out_qsize 0\n",
      "2017-11-06 19:51:26,299 : INFO : PROGRESS: at 26.34% examples, 925579 words/s, in_qsize 7, out_qsize 0\n",
      "2017-11-06 19:51:27,303 : INFO : PROGRESS: at 27.83% examples, 926697 words/s, in_qsize 7, out_qsize 0\n",
      "2017-11-06 19:51:28,311 : INFO : PROGRESS: at 29.31% examples, 927518 words/s, in_qsize 7, out_qsize 0\n",
      "2017-11-06 19:51:29,325 : INFO : PROGRESS: at 30.81% examples, 928398 words/s, in_qsize 7, out_qsize 0\n",
      "2017-11-06 19:51:30,330 : INFO : PROGRESS: at 32.31% examples, 929831 words/s, in_qsize 7, out_qsize 0\n",
      "2017-11-06 19:51:31,332 : INFO : PROGRESS: at 33.79% examples, 930395 words/s, in_qsize 7, out_qsize 0\n",
      "2017-11-06 19:51:32,342 : INFO : PROGRESS: at 35.27% examples, 930590 words/s, in_qsize 7, out_qsize 0\n",
      "2017-11-06 19:51:33,355 : INFO : PROGRESS: at 36.76% examples, 930883 words/s, in_qsize 7, out_qsize 0\n",
      "2017-11-06 19:51:34,359 : INFO : PROGRESS: at 38.25% examples, 931819 words/s, in_qsize 7, out_qsize 0\n",
      "2017-11-06 19:51:35,359 : INFO : PROGRESS: at 39.74% examples, 932512 words/s, in_qsize 7, out_qsize 0\n",
      "2017-11-06 19:51:36,361 : INFO : PROGRESS: at 41.26% examples, 933606 words/s, in_qsize 7, out_qsize 0\n",
      "2017-11-06 19:51:37,364 : INFO : PROGRESS: at 42.73% examples, 933402 words/s, in_qsize 7, out_qsize 0\n",
      "2017-11-06 19:51:38,368 : INFO : PROGRESS: at 44.20% examples, 933118 words/s, in_qsize 7, out_qsize 0\n",
      "2017-11-06 19:51:39,374 : INFO : PROGRESS: at 45.64% examples, 932385 words/s, in_qsize 7, out_qsize 0\n",
      "2017-11-06 19:51:40,380 : INFO : PROGRESS: at 47.16% examples, 932975 words/s, in_qsize 7, out_qsize 0\n",
      "2017-11-06 19:51:41,386 : INFO : PROGRESS: at 48.62% examples, 932925 words/s, in_qsize 7, out_qsize 0\n",
      "2017-11-06 19:51:42,387 : INFO : PROGRESS: at 50.09% examples, 933234 words/s, in_qsize 7, out_qsize 0\n",
      "2017-11-06 19:51:43,398 : INFO : PROGRESS: at 51.55% examples, 933023 words/s, in_qsize 7, out_qsize 0\n",
      "2017-11-06 19:51:44,398 : INFO : PROGRESS: at 53.00% examples, 932922 words/s, in_qsize 7, out_qsize 0\n",
      "2017-11-06 19:51:45,400 : INFO : PROGRESS: at 54.46% examples, 932996 words/s, in_qsize 7, out_qsize 0\n",
      "2017-11-06 19:51:46,410 : INFO : PROGRESS: at 55.95% examples, 933043 words/s, in_qsize 7, out_qsize 0\n",
      "2017-11-06 19:51:47,415 : INFO : PROGRESS: at 57.42% examples, 933006 words/s, in_qsize 7, out_qsize 0\n",
      "2017-11-06 19:51:48,419 : INFO : PROGRESS: at 58.86% examples, 932680 words/s, in_qsize 7, out_qsize 0\n",
      "2017-11-06 19:51:49,423 : INFO : PROGRESS: at 60.28% examples, 932004 words/s, in_qsize 7, out_qsize 0\n",
      "2017-11-06 19:51:50,425 : INFO : PROGRESS: at 61.73% examples, 931717 words/s, in_qsize 7, out_qsize 0\n",
      "2017-11-06 19:51:51,430 : INFO : PROGRESS: at 63.22% examples, 931919 words/s, in_qsize 7, out_qsize 0\n",
      "2017-11-06 19:51:52,439 : INFO : PROGRESS: at 64.70% examples, 931665 words/s, in_qsize 7, out_qsize 0\n",
      "2017-11-06 19:51:53,443 : INFO : PROGRESS: at 66.15% examples, 931364 words/s, in_qsize 7, out_qsize 0\n",
      "2017-11-06 19:51:54,456 : INFO : PROGRESS: at 67.61% examples, 931079 words/s, in_qsize 7, out_qsize 0\n",
      "2017-11-06 19:51:55,457 : INFO : PROGRESS: at 69.07% examples, 931026 words/s, in_qsize 7, out_qsize 0\n",
      "2017-11-06 19:51:56,468 : INFO : PROGRESS: at 70.53% examples, 930924 words/s, in_qsize 7, out_qsize 0\n",
      "2017-11-06 19:51:57,469 : INFO : PROGRESS: at 71.95% examples, 930568 words/s, in_qsize 7, out_qsize 0\n",
      "2017-11-06 19:51:58,470 : INFO : PROGRESS: at 73.42% examples, 930814 words/s, in_qsize 7, out_qsize 0\n",
      "2017-11-06 19:51:59,481 : INFO : PROGRESS: at 74.90% examples, 930882 words/s, in_qsize 7, out_qsize 0\n",
      "2017-11-06 19:52:00,482 : INFO : PROGRESS: at 76.41% examples, 931398 words/s, in_qsize 8, out_qsize 0\n",
      "2017-11-06 19:52:01,483 : INFO : PROGRESS: at 77.85% examples, 931205 words/s, in_qsize 7, out_qsize 0\n",
      "2017-11-06 19:52:02,489 : INFO : PROGRESS: at 79.31% examples, 930951 words/s, in_qsize 7, out_qsize 0\n",
      "2017-11-06 19:52:03,494 : INFO : PROGRESS: at 80.76% examples, 930984 words/s, in_qsize 6, out_qsize 1\n",
      "2017-11-06 19:52:04,498 : INFO : PROGRESS: at 82.22% examples, 930757 words/s, in_qsize 7, out_qsize 0\n",
      "2017-11-06 19:52:05,499 : INFO : PROGRESS: at 83.73% examples, 931107 words/s, in_qsize 7, out_qsize 0\n",
      "2017-11-06 19:52:06,499 : INFO : PROGRESS: at 85.18% examples, 930962 words/s, in_qsize 8, out_qsize 0\n",
      "2017-11-06 19:52:07,502 : INFO : PROGRESS: at 86.64% examples, 930763 words/s, in_qsize 7, out_qsize 0\n",
      "2017-11-06 19:52:08,508 : INFO : PROGRESS: at 88.12% examples, 930889 words/s, in_qsize 7, out_qsize 0\n",
      "2017-11-06 19:52:09,515 : INFO : PROGRESS: at 89.59% examples, 930994 words/s, in_qsize 7, out_qsize 0\n",
      "2017-11-06 19:52:10,521 : INFO : PROGRESS: at 91.06% examples, 931122 words/s, in_qsize 7, out_qsize 0\n",
      "2017-11-06 19:52:11,521 : INFO : PROGRESS: at 92.53% examples, 931311 words/s, in_qsize 7, out_qsize 0\n",
      "2017-11-06 19:52:12,522 : INFO : PROGRESS: at 93.95% examples, 930944 words/s, in_qsize 7, out_qsize 0\n",
      "2017-11-06 19:52:13,529 : INFO : PROGRESS: at 95.43% examples, 931038 words/s, in_qsize 7, out_qsize 0\n",
      "2017-11-06 19:52:14,534 : INFO : PROGRESS: at 96.89% examples, 930951 words/s, in_qsize 7, out_qsize 0\n"
     ]
    },
    {
     "name": "stderr",
     "output_type": "stream",
     "text": [
      "2017-11-06 19:52:15,541 : INFO : PROGRESS: at 98.30% examples, 930416 words/s, in_qsize 7, out_qsize 0\n",
      "2017-11-06 19:52:16,553 : INFO : PROGRESS: at 99.78% examples, 930439 words/s, in_qsize 7, out_qsize 0\n",
      "2017-11-06 19:52:16,685 : INFO : worker thread finished; awaiting finish of 3 more threads\n",
      "2017-11-06 19:52:16,687 : INFO : worker thread finished; awaiting finish of 2 more threads\n",
      "2017-11-06 19:52:16,695 : INFO : worker thread finished; awaiting finish of 1 more threads\n",
      "2017-11-06 19:52:16,705 : INFO : worker thread finished; awaiting finish of 0 more threads\n",
      "2017-11-06 19:52:16,705 : INFO : training on 88990410 raw words (63752112 effective words) took 68.5s, 930455 effective words/s\n",
      "2017-11-06 19:52:16,707 : INFO : precomputing L2-norms of word weight vectors\n",
      "2017-11-06 19:52:16,846 : INFO : saving Word2Vec object under 300features_40minwords_10context, separately None\n",
      "2017-11-06 19:52:16,847 : INFO : not storing attribute syn0norm\n",
      "2017-11-06 19:52:16,848 : INFO : not storing attribute cum_table\n",
      "2017-11-06 19:52:17,326 : INFO : saved 300features_40minwords_10context\n"
     ]
    }
   ],
   "source": [
    "import logging\n",
    "logging.basicConfig(format='%(asctime)s : %(levelname)s : %(message)s',\\\n",
    "    level=logging.INFO)\n",
    "\n",
    "# Set values for various parameters\n",
    "num_features = 300    # Word vector dimensionality                      \n",
    "min_word_count = 40   # Minimum word count                        \n",
    "num_workers = 4       # Number of threads to run in parallel\n",
    "context = 10          # Context window size                                                                                    \n",
    "downsampling = 1e-3   # Downsample setting for frequent words\n",
    "\n",
    "# Initialize and train the model (this will take some time)\n",
    "from gensim.models import word2vec\n",
    "print(\"Training model...\")\n",
    "model = word2vec.Word2Vec(sentences, workers=num_workers, \\\n",
    "            size=num_features, min_count = min_word_count, \\\n",
    "            window = context, sample = downsampling)\n",
    "\n",
    "# If you don't plan to train the model any further, calling \n",
    "# init_sims will make the model much more memory-efficient.\n",
    "model.init_sims(replace=True)\n",
    "\n",
    "# It can be helpful to create a meaningful model name and \n",
    "# save the model for later use. You can load it later using Word2Vec.load()\n",
    "model_name = \"300features_40minwords_10context\"\n",
    "model.save(model_name)"
   ]
  },
  {
   "cell_type": "code",
   "execution_count": 11,
   "metadata": {},
   "outputs": [
    {
     "data": {
      "text/plain": [
       "'kitchen'"
      ]
     },
     "execution_count": 11,
     "metadata": {},
     "output_type": "execute_result"
    }
   ],
   "source": [
    "model.doesnt_match(\"man woman child kitchen\".split())"
   ]
  },
  {
   "cell_type": "code",
   "execution_count": 12,
   "metadata": {},
   "outputs": [
    {
     "data": {
      "text/plain": [
       "'m'"
      ]
     },
     "execution_count": 12,
     "metadata": {},
     "output_type": "execute_result"
    }
   ],
   "source": [
    "model.doesnt_match(\"man\")"
   ]
  },
  {
   "cell_type": "code",
   "execution_count": 13,
   "metadata": {},
   "outputs": [
    {
     "data": {
      "text/plain": [
       "[('woman', 0.6342664957046509),\n",
       " ('lady', 0.5826859474182129),\n",
       " ('lad', 0.5671110153198242),\n",
       " ('guy', 0.5402830243110657),\n",
       " ('farmer', 0.5364877581596375),\n",
       " ('chap', 0.5269407033920288),\n",
       " ('monk', 0.5266861915588379),\n",
       " ('millionaire', 0.5164661407470703),\n",
       " ('men', 0.5070557594299316),\n",
       " ('soldier', 0.5011072158813477)]"
      ]
     },
     "execution_count": 13,
     "metadata": {},
     "output_type": "execute_result"
    }
   ],
   "source": [
    "model.most_similar(\"man\")"
   ]
  },
  {
   "cell_type": "code",
   "execution_count": null,
   "metadata": {
    "collapsed": true
   },
   "outputs": [],
   "source": []
  }
 ],
 "metadata": {
  "kernelspec": {
   "display_name": "Python 3",
   "language": "python",
   "name": "python3"
  },
  "language_info": {
   "codemirror_mode": {
    "name": "ipython",
    "version": 3
   },
   "file_extension": ".py",
   "mimetype": "text/x-python",
   "name": "python",
   "nbconvert_exporter": "python",
   "pygments_lexer": "ipython3",
   "version": "3.6.1"
  }
 },
 "nbformat": 4,
 "nbformat_minor": 1
}
